{
 "cells": [
  {
   "cell_type": "code",
   "execution_count": null,
   "metadata": {},
   "outputs": [],
   "source": []
  },
  {
   "cell_type": "code",
   "execution_count": 4,
   "metadata": {},
   "outputs": [
    {
     "name": "stdout",
     "output_type": "stream",
     "text": [
      "() ()\n"
     ]
    },
    {
     "name": "stderr",
     "output_type": "stream",
     "text": [
      "2024-07-27 16:05:06.357 python[11856:370640] NSSoftLinking - The function 'SLSTransactionSetWindowTags' can't be found in the (null) framework.\n",
      "2024-07-27 16:05:06.358 python[11856:370640] NSSoftLinking - The function 'SLSTransactionReorderWindows' can't be found in the (null) framework.\n",
      "2024-07-27 16:05:06.359 python[11856:370640] NSSoftLinking - The function 'SLSTransactionOrderWindowGroupFrontConditionally' can't be found in the (null) framework.\n"
     ]
    },
    {
     "name": "stdout",
     "output_type": "stream",
     "text": [
      "() ()\n"
     ]
    },
    {
     "name": "stderr",
     "output_type": "stream",
     "text": [
      "2024-07-27 16:05:07.036 python[11856:370640] NSSoftLinking - The function 'SLSTransactionEnsureSpaceSwitchToActiveProcess' can't be found in the (null) framework.\n"
     ]
    },
    {
     "name": "stdout",
     "output_type": "stream",
     "text": [
      "[90] [[ 397   20 1176 1006]]\n"
     ]
    },
    {
     "ename": "IndexError",
     "evalue": "list index out of range",
     "output_type": "error",
     "traceback": [
      "\u001b[0;31m---------------------------------------------------------------------------\u001b[0m",
      "\u001b[0;31mIndexError\u001b[0m                                Traceback (most recent call last)",
      "Cell \u001b[0;32mIn[4], line 28\u001b[0m\n\u001b[1;32m     26\u001b[0m     \u001b[38;5;28;01mfor\u001b[39;00m classID, confidence, box \u001b[38;5;129;01min\u001b[39;00m \u001b[38;5;28mzip\u001b[39m(ClassIds\u001b[38;5;241m.\u001b[39mflatten(), confs\u001b[38;5;241m.\u001b[39mflatten(), bbox):\n\u001b[1;32m     27\u001b[0m         cv2\u001b[38;5;241m.\u001b[39mrectangle(img, box, color\u001b[38;5;241m=\u001b[39m(\u001b[38;5;241m0\u001b[39m, \u001b[38;5;241m255\u001b[39m, \u001b[38;5;241m0\u001b[39m), thickness\u001b[38;5;241m=\u001b[39m\u001b[38;5;241m2\u001b[39m)\n\u001b[0;32m---> 28\u001b[0m         cv2\u001b[38;5;241m.\u001b[39mputText(img, classNames[classID \u001b[38;5;241m-\u001b[39m \u001b[38;5;241m1\u001b[39m]\u001b[38;5;241m.\u001b[39mupper(), (box[\u001b[38;5;241m0\u001b[39m] \u001b[38;5;241m+\u001b[39m \u001b[38;5;241m10\u001b[39m, box[\u001b[38;5;241m1\u001b[39m] \u001b[38;5;241m+\u001b[39m \u001b[38;5;241m30\u001b[39m), cv2\u001b[38;5;241m.\u001b[39mFONT_HERSHEY_COMPLEX, \u001b[38;5;241m1\u001b[39m,\n\u001b[1;32m     29\u001b[0m                     (\u001b[38;5;241m0\u001b[39m, \u001b[38;5;241m255\u001b[39m, \u001b[38;5;241m0\u001b[39m), \u001b[38;5;241m2\u001b[39m)\n\u001b[1;32m     30\u001b[0m         cv2\u001b[38;5;241m.\u001b[39mputText(img, \u001b[38;5;28mstr\u001b[39m(\u001b[38;5;28mround\u001b[39m(confidence \u001b[38;5;241m*\u001b[39m \u001b[38;5;241m100\u001b[39m, \u001b[38;5;241m2\u001b[39m)), (box[\u001b[38;5;241m0\u001b[39m] \u001b[38;5;241m+\u001b[39m \u001b[38;5;241m200\u001b[39m, box[\u001b[38;5;241m1\u001b[39m] \u001b[38;5;241m+\u001b[39m \u001b[38;5;241m30\u001b[39m), cv2\u001b[38;5;241m.\u001b[39mFONT_HERSHEY_COMPLEX, \u001b[38;5;241m1\u001b[39m,\n\u001b[1;32m     31\u001b[0m                     (\u001b[38;5;241m0\u001b[39m, \u001b[38;5;241m255\u001b[39m, \u001b[38;5;241m0\u001b[39m), \u001b[38;5;241m2\u001b[39m)\n\u001b[1;32m     33\u001b[0m cv2\u001b[38;5;241m.\u001b[39mimshow(\u001b[38;5;124m'\u001b[39m\u001b[38;5;124mOutput\u001b[39m\u001b[38;5;124m'\u001b[39m, img)\n",
      "\u001b[0;31mIndexError\u001b[0m: list index out of range"
     ]
    }
   ],
   "source": [
    "import cv2\n",
    "\n",
    "cap = cv2.VideoCapture(1)\n",
    "\n",
    "config = 'ssd_mobilenet_v3_large_coco_2020_01_14.pbtxt'\n",
    "frozenGraph = 'frozen_inference_graph.pb'\n",
    "fileName = 'coco.names'\n",
    "\n",
    "classNames = []\n",
    "\n",
    "with open(fileName, 'rt') as f:\n",
    "    classNames = f.read().rstrip('\\n').split('\\n')\n",
    "\n",
    "model = cv2.dnn_DetectionModel(frozenGraph, config)\n",
    "model.setInputSize(320, 320)\n",
    "model.setInputScale(1.0 / 127.5)\n",
    "model.setInputMean((127.5, 127.5, 127.5))\n",
    "model.setInputSwapRB(True)\n",
    "\n",
    "while True:\n",
    "    success, img = cap.read()\n",
    "    ClassIds, confs, bbox = model.detect(img, confThreshold=0.5)\n",
    "    print(ClassIds, bbox)\n",
    "    \n",
    "    if len(ClassIds) != 0:\n",
    "        for classID, confidence, box in zip(ClassIds.flatten(), confs.flatten(), bbox):\n",
    "            cv2.rectangle(img, box, color=(0, 255, 0), thickness=2)\n",
    "            cv2.putText(img, classNames[classID - 1].upper(), (box[0] + 10, box[1] + 30), cv2.FONT_HERSHEY_COMPLEX, 1,\n",
    "                        (0, 255, 0), 2)\n",
    "            cv2.putText(img, str(round(confidence * 100, 2)), (box[0] + 200, box[1] + 30), cv2.FONT_HERSHEY_COMPLEX, 1,\n",
    "                        (0, 255, 0), 2)\n",
    "\n",
    "    cv2.imshow('Output', img)\n",
    "    if cv2.waitKey(1) & 0xFF == ord('q'):\n",
    "        break\n",
    "\n",
    "cap.release()\n",
    "cv2.destroyAllWindows()\n"
   ]
  },
  {
   "cell_type": "code",
   "execution_count": null,
   "metadata": {},
   "outputs": [],
   "source": []
  }
 ],
 "metadata": {
  "kernelspec": {
   "display_name": "Python 3 (ipykernel)",
   "language": "python",
   "name": "python3"
  },
  "language_info": {
   "codemirror_mode": {
    "name": "ipython",
    "version": 3
   },
   "file_extension": ".py",
   "mimetype": "text/x-python",
   "name": "python",
   "nbconvert_exporter": "python",
   "pygments_lexer": "ipython3",
   "version": "3.11.7"
  }
 },
 "nbformat": 4,
 "nbformat_minor": 4
}
